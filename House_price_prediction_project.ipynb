{
  "nbformat": 4,
  "nbformat_minor": 0,
  "metadata": {
    "colab": {
      "provenance": [],
      "authorship_tag": "ABX9TyNgBOVdC7FzgG4L5f+eFXNr",
      "include_colab_link": true
    },
    "kernelspec": {
      "name": "python3",
      "display_name": "Python 3"
    },
    "language_info": {
      "name": "python"
    }
  },
  "cells": [
    {
      "cell_type": "markdown",
      "metadata": {
        "id": "view-in-github",
        "colab_type": "text"
      },
      "source": [
        "<a href=\"https://colab.research.google.com/github/umamaheshwari1010/House_price_project/blob/main/House_price_prediction_project.ipynb\" target=\"_parent\"><img src=\"https://colab.research.google.com/assets/colab-badge.svg\" alt=\"Open In Colab\"/></a>"
      ]
    },
    {
      "cell_type": "code",
      "execution_count": 7,
      "metadata": {
        "id": "kD87w7QGcHSD"
      },
      "outputs": [],
      "source": [
        "import pandas as pd\n",
        "import numpy as np\n",
        "from sklearn.model_selection import train_test_split, cross_val_score\n",
        "from sklearn.preprocessing import StandardScaler\n",
        "from sklearn.impute import SimpleImputer\n",
        "from sklearn.linear_model import LinearRegression\n",
        "from sklearn.ensemble import RandomForestRegressor\n",
        "from xgboost import XGBRegressor\n",
        "from sklearn.metrics import mean_squared_error"
      ]
    },
    {
      "cell_type": "code",
      "source": [
        "train_data = pd.read_csv('train.csv')\n",
        "test_data = pd.read_csv('test.csv')"
      ],
      "metadata": {
        "id": "j-yl2Mj-cXdq"
      },
      "execution_count": 26,
      "outputs": []
    },
    {
      "cell_type": "code",
      "source": [
        "train_data = train_data[train_data['GrLivArea'] < 4000]"
      ],
      "metadata": {
        "id": "cBgo3dX2cjLm"
      },
      "execution_count": 27,
      "outputs": []
    },
    {
      "cell_type": "code",
      "source": [
        "# Split data before preprocessing to prevent leakage\n",
        "X = train_data.drop(['Id', 'SalePrice'], axis=1)\n",
        "y = train_data['SalePrice']\n",
        "X_train, X_test, y_train, y_test = train_test_split(X, y, test_size=0.2, random_state=42)\n",
        "y_train = np.log1p(y_train)  # Log-transform target immediately\n",
        "y_test = np.log1p(y_test)"
      ],
      "metadata": {
        "id": "MGfirlcxdPpI"
      },
      "execution_count": 29,
      "outputs": []
    },
    {
      "cell_type": "code",
      "source": [
        "print(\"Missing values in train_data before imputation:\")\n",
        "print(X_train.isnull().sum()[X_train.isnull().sum() > 0])"
      ],
      "metadata": {
        "id": "LH3XgX6TdTEV",
        "colab": {
          "base_uri": "https://localhost:8080/"
        },
        "outputId": "3787f47e-3ffa-40da-f9c3-3120af264a7a"
      },
      "execution_count": 30,
      "outputs": [
        {
          "output_type": "stream",
          "name": "stdout",
          "text": [
            "Missing values in train_data before imputation:\n",
            "LotFrontage      221\n",
            "Alley           1094\n",
            "MasVnrType       685\n",
            "MasVnrArea         5\n",
            "BsmtQual          30\n",
            "BsmtCond          30\n",
            "BsmtExposure      31\n",
            "BsmtFinType1      30\n",
            "BsmtFinType2      30\n",
            "Electrical         1\n",
            "FireplaceQu      535\n",
            "GarageType        64\n",
            "GarageYrBlt       64\n",
            "GarageFinish      64\n",
            "GarageQual        64\n",
            "GarageCond        64\n",
            "PoolQC          1159\n",
            "Fence            942\n",
            "MiscFeature     1118\n",
            "dtype: int64\n"
          ]
        }
      ]
    },
    {
      "cell_type": "code",
      "source": [
        "# Impute LotFrontage with median (expanded to all numerical columns)\n",
        "numerical_cols = X_train.select_dtypes(include=['int64', 'float64']).columns\n",
        "num_imputer = SimpleImputer(strategy='median')\n",
        "X_train[numerical_cols] = num_imputer.fit_transform(X_train[numerical_cols])\n",
        "X_test[numerical_cols] = num_imputer.transform(X_test[numerical_cols])"
      ],
      "metadata": {
        "id": "mQgULb6cdcSE"
      },
      "execution_count": 31,
      "outputs": []
    },
    {
      "cell_type": "code",
      "source": [
        "# Impute categorical columns with 'None' (expanded to all categorical columns)\n",
        "categorical_cols = X_train.select_dtypes(include=['object']).columns\n",
        "cat_imputer = SimpleImputer(strategy='constant', fill_value='None')\n",
        "X_train[categorical_cols] = cat_imputer.fit_transform(X_train[categorical_cols])\n",
        "X_test[categorical_cols] = cat_imputer.transform(X_test[categorical_cols])"
      ],
      "metadata": {
        "id": "QeMw5AkueeC7"
      },
      "execution_count": 32,
      "outputs": []
    },
    {
      "cell_type": "code",
      "source": [
        "# Verify missing values are handled\n",
        "print(\"Missing values in X_train after imputation:\")\n",
        "print(X_train.isnull().sum().sum())  # Should be 0"
      ],
      "metadata": {
        "id": "n7OOtn3IeiZc",
        "colab": {
          "base_uri": "https://localhost:8080/"
        },
        "outputId": "338557dd-ee54-47bb-facb-a98c8bac49f7"
      },
      "execution_count": 33,
      "outputs": [
        {
          "output_type": "stream",
          "name": "stdout",
          "text": [
            "Missing values in X_train after imputation:\n",
            "0\n"
          ]
        }
      ]
    },
    {
      "cell_type": "code",
      "source": [
        "# Feature engineering (as you requested)\n",
        "X_train['TotalSF'] = X_train['GrLivArea'] + X_train['TotalBsmtSF']\n",
        "X_test['TotalSF'] = X_test['GrLivArea'] + X_test['TotalBsmtSF']\n",
        "X_train['HouseAge'] = X_train['YrSold'] - X_train['YearBuilt']\n",
        "X_test['HouseAge'] = X_test['YrSold'] - X_test['YearBuilt']\n",
        "X_train['Has2ndFloor'] = (X_train['2ndFlrSF'] > 0).astype(int)\n",
        "X_test['Has2ndFloor'] = (X_test['2ndFlrSF'] > 0).astype(int)"
      ],
      "metadata": {
        "id": "5M_zgXGAep9K"
      },
      "execution_count": 34,
      "outputs": []
    },
    {
      "cell_type": "code",
      "source": [
        "numerical_cols = numerical_cols.append(pd.Index(['TotalSF', 'HouseAge']))"
      ],
      "metadata": {
        "id": "fCndgm0wewOS"
      },
      "execution_count": 35,
      "outputs": []
    },
    {
      "cell_type": "code",
      "source": [
        "# One-hot encode categorical columns\n",
        "print(\"Categorical columns:\", categorical_cols)\n",
        "# Filter categorical_cols to include only columns present in X_train\n",
        "categorical_cols_present = [col for col in categorical_cols if col in X_train.columns]\n",
        "print(\"Categorical columns present in X_train:\", categorical_cols_present)\n",
        "X_train = pd.get_dummies(X_train, columns=categorical_cols_present, drop_first=True)\n",
        "X_test = pd.get_dummies(X_test, columns=categorical_cols_present, drop_first=True)\n",
        "X_train, X_test = X_train.align(X_test, join='left', axis=1, fill_value=0)"
      ],
      "metadata": {
        "id": "huHP2wx2e5M_",
        "colab": {
          "base_uri": "https://localhost:8080/"
        },
        "outputId": "4c42daae-fe37-4914-81ed-77687a98c9b7"
      },
      "execution_count": 36,
      "outputs": [
        {
          "output_type": "stream",
          "name": "stdout",
          "text": [
            "Categorical columns: Index(['MSZoning', 'Street', 'Alley', 'LotShape', 'LandContour', 'Utilities',\n",
            "       'LotConfig', 'LandSlope', 'Neighborhood', 'Condition1', 'Condition2',\n",
            "       'BldgType', 'HouseStyle', 'RoofStyle', 'RoofMatl', 'Exterior1st',\n",
            "       'Exterior2nd', 'MasVnrType', 'ExterQual', 'ExterCond', 'Foundation',\n",
            "       'BsmtQual', 'BsmtCond', 'BsmtExposure', 'BsmtFinType1', 'BsmtFinType2',\n",
            "       'Heating', 'HeatingQC', 'CentralAir', 'Electrical', 'KitchenQual',\n",
            "       'Functional', 'FireplaceQu', 'GarageType', 'GarageFinish', 'GarageQual',\n",
            "       'GarageCond', 'PavedDrive', 'PoolQC', 'Fence', 'MiscFeature',\n",
            "       'SaleType', 'SaleCondition'],\n",
            "      dtype='object')\n",
            "Categorical columns present in X_train: ['MSZoning', 'Street', 'Alley', 'LotShape', 'LandContour', 'Utilities', 'LotConfig', 'LandSlope', 'Neighborhood', 'Condition1', 'Condition2', 'BldgType', 'HouseStyle', 'RoofStyle', 'RoofMatl', 'Exterior1st', 'Exterior2nd', 'MasVnrType', 'ExterQual', 'ExterCond', 'Foundation', 'BsmtQual', 'BsmtCond', 'BsmtExposure', 'BsmtFinType1', 'BsmtFinType2', 'Heating', 'HeatingQC', 'CentralAir', 'Electrical', 'KitchenQual', 'Functional', 'FireplaceQu', 'GarageType', 'GarageFinish', 'GarageQual', 'GarageCond', 'PavedDrive', 'PoolQC', 'Fence', 'MiscFeature', 'SaleType', 'SaleCondition']\n"
          ]
        }
      ]
    },
    {
      "cell_type": "code",
      "source": [
        "numerical_cols = numerical_cols.append(pd.Index(['2ndFlrSF']))  # Include 2ndFlrSF\n",
        "scaler = StandardScaler()\n",
        "X_train[numerical_cols] = scaler.fit_transform(X_train[numerical_cols])\n",
        "X_test[numerical_cols] = scaler.transform(X_test[numerical_cols])"
      ],
      "metadata": {
        "id": "3iw8NP6Oe8qh"
      },
      "execution_count": 37,
      "outputs": []
    },
    {
      "cell_type": "code",
      "source": [
        "models = {\n",
        "    'Linear Regression': LinearRegression(),\n",
        "    'Random Forest': RandomForestRegressor(random_state=42),\n",
        "    'XGBoost': XGBRegressor(random_state=42)\n",
        "}\n",
        "\n",
        "# Train models on log-transformed target\n",
        "for name, model in models.items():\n",
        "    model.fit(X_train, y_train)\n",
        "    print(f\"{name} trained\")"
      ],
      "metadata": {
        "id": "-NoKWQjbfE1d",
        "colab": {
          "base_uri": "https://localhost:8080/"
        },
        "outputId": "cc078b37-a638-4b63-c826-665b815fbdfd"
      },
      "execution_count": 39,
      "outputs": [
        {
          "output_type": "stream",
          "name": "stdout",
          "text": [
            "Linear Regression trained\n",
            "Random Forest trained\n",
            "XGBoost trained\n"
          ]
        }
      ]
    },
    {
      "cell_type": "code",
      "source": [
        "# Evaluate models\n",
        "for name, model in models.items():\n",
        "    y_pred = model.predict(X_test)\n",
        "    mse = mean_squared_error(y_test, y_pred)\n",
        "    rmse = np.sqrt(mse)\n",
        "    print(f\"{name} RMSE: {rmse}\")\n"
      ],
      "metadata": {
        "id": "FxrpAZ-OfLDC",
        "colab": {
          "base_uri": "https://localhost:8080/"
        },
        "outputId": "ede8a5a9-0d11-48b6-b2af-51014fc1e86f"
      },
      "execution_count": 41,
      "outputs": [
        {
          "output_type": "stream",
          "name": "stdout",
          "text": [
            "Linear Regression RMSE: 0.8542642747053799\n",
            "Random Forest RMSE: 0.14783464471488372\n",
            "XGBoost RMSE: 0.15159803685702214\n"
          ]
        }
      ]
    },
    {
      "cell_type": "code",
      "source": [
        "# Cross-validation for XGBoost\n",
        "best_model = XGBRegressor(random_state=42)\n",
        "scores = cross_val_score(best_model, X_train, y_train, cv=5, scoring='neg_root_mean_squared_error')\n",
        "print(\"Individual Fold RMSEs:\", -scores)\n",
        "print(f\"Cross-Validated RMSE: {-scores.mean():.4f}\")"
      ],
      "metadata": {
        "id": "_Rh6cUWRfZ2j",
        "colab": {
          "base_uri": "https://localhost:8080/"
        },
        "outputId": "06d6c4d6-db30-4f78-fb2c-7998b41f3473"
      },
      "execution_count": 42,
      "outputs": [
        {
          "output_type": "stream",
          "name": "stdout",
          "text": [
            "Individual Fold RMSEs: [0.13875349 0.13746792 0.14946741 0.13738406 0.10713393]\n",
            "Cross-Validated RMSE: 0.1340\n"
          ]
        }
      ]
    },
    {
      "cell_type": "code",
      "source": [
        "import matplotlib.pyplot as plt\n",
        "best_model.fit(X_train, y_train)\n",
        "feature_importance = pd.Series(best_model.feature_importances_, index=X_train.columns).sort_values(ascending=False)\n",
        "feature_importance[:10].plot(kind='barh')\n",
        "plt.title('Top 10 Feature Importances (XGBoost)')\n",
        "plt.show()"
      ],
      "metadata": {
        "colab": {
          "base_uri": "https://localhost:8080/",
          "height": 452
        },
        "id": "aHbVY4ZLg23H",
        "outputId": "e4ca9187-8455-47ae-bd75-ac7ec34b2fa2"
      },
      "execution_count": 44,
      "outputs": [
        {
          "output_type": "display_data",
          "data": {
            "text/plain": [
              "<Figure size 640x480 with 1 Axes>"
            ],
            "image/png": "[encoded data removed]"
          },
          "metadata": {}
        }
      ]
    }
  ]
}